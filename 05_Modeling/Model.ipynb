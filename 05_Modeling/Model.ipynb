{
 "cells": [
  {
   "cell_type": "code",
   "execution_count": 1,
   "metadata": {
    "collapsed": true
   },
   "outputs": [],
   "source": [
    "from sklearn.ensemble import RandomForestClassifier\n",
    "from sklearn.linear_model import LogisticRegression\n",
    "from sklearn.neural_network import MLPClassifier\n",
    "from sklearn.model_selection import cross_val_score, GridSearchCV, RandomizedSearchCV"
   ]
  },
  {
   "cell_type": "markdown",
   "metadata": {},
   "source": [
    "## Modeling \n",
    "+ tree-based momdels\n",
    "  + RandomForest\n",
    "+ non-tree-based models\n",
    "  + logistic\n",
    "  + Neural network"
   ]
  },
  {
   "cell_type": "markdown",
   "metadata": {},
   "source": [
    "## Tree-based\n",
    "1. RandomForest"
   ]
  },
  {
   "cell_type": "code",
   "execution_count": null,
   "metadata": {
    "collapsed": true
   },
   "outputs": [],
   "source": [
    "#tree-based\n",
    "t_train = train.copy()\n",
    "t_test = test.copy()"
   ]
  },
  {
   "cell_type": "code",
   "execution_count": null,
   "metadata": {
    "collapsed": true
   },
   "outputs": [],
   "source": [
    "#preprocessing\n"
   ]
  },
  {
   "cell_type": "code",
   "execution_count": null,
   "metadata": {
    "collapsed": true
   },
   "outputs": [],
   "source": [
    "#train, val, test\n",
    "X, y = t_train.drop('event', axis=1), t_train['event'].copy()\n",
    "X_train, X_val, y_train, y_val = train_test_split(X, y, test_size=0.3, stratify=y, random_state=1)\n",
    "X_test, y_test = t_test.drop('event', axis=1), t_test['event'].copy()\n",
    "\n",
    "print 'X_train.shape: ', X_train.shape\n",
    "print 'X_val.shape: ', X_val.shape\n",
    "print 'y_train.shape: ', y_train.shape\n",
    "print 'y_val.shape: ', y_val.shape\n",
    "print 'X_test.shape: ', X_test.shape\n",
    "print 'y_test.shape: ', y_test.shape"
   ]
  },
  {
   "cell_type": "markdown",
   "metadata": {},
   "source": [
    "### RandomForest"
   ]
  },
  {
   "cell_type": "raw",
   "metadata": {},
   "source": [
    "#GridSearchCV\n",
    "model = RandomForestClassifier(random_state=1)\n",
    "\n",
    "#training \n",
    "params = [{'n_estimators': [50, 100, 200], \n",
    "           'max_depth': [3, 5, 7]}]\n",
    "\n",
    "grid_search = GridSearchCV(model, params, cv=3, scoring='roc_auc')\n",
    "grid_search.fit(X_train, y_train)\n",
    "\n",
    "#prediction\n",
    "model_best = grid_search.best_estimator_\n",
    "model_train = model_best.predict_proba(X_train)[:,1]\n",
    "model_val = model_best.predict_proba(X_val)[:,1]\n",
    "model_test = model_best.predict_proba(X_test)[:,1]\n",
    "\n",
    "#evaluation\n",
    "print 'AUC-RandomForest:'\n",
    "print 'best paras: ', grid_search.best_params_\n",
    "print('train: {:.2%}'.format(metrics.roc_auc_score(y_train, model_train)))\n",
    "print('val: {:.2%}'.format(metrics.roc_auc_score(y_val, model_val)))\n",
    "print('test: {:.2%}'.format(metrics.roc_auc_score(y_test, model_test)))"
   ]
  },
  {
   "cell_type": "code",
   "execution_count": null,
   "metadata": {
    "collapsed": true
   },
   "outputs": [],
   "source": [
    "#RandomizedSearchCV\n",
    "model = RandomForestClassifier(random_state=1)\n",
    "\n",
    "#training\n",
    "params = {'n_estimators': [50, 100, 200], \n",
    "           'max_depth': [5, 7, 10],\n",
    "           'min_samples_leaf': [0.01, 0.001]}\n",
    "\n",
    "random_search = RandomizedSearchCV(model, params, cv=3, scoring='roc_auc')\n",
    "random_search.fit(X_train, y_train)\n",
    "\n",
    "#prediction\n",
    "model_best = random_search.best_estimator_\n",
    "model_train = model_best.predict_proba(X_train)[:,1]\n",
    "model_val = model_best.predict_proba(X_val)[:,1]\n",
    "model_test = model_best.predict_proba(X_test)[:,1]\n",
    "\n",
    "#evaluation\n",
    "print 'AUC-RandomForest:'\n",
    "print 'best paras: ', random_search.best_params_\n",
    "print('train: {:.2%}'.format(metrics.roc_auc_score(y_train, model_train)))\n",
    "print('val: {:.2%}'.format(metrics.roc_auc_score(y_val, model_val)))\n",
    "print('test: {:.2%}'.format(metrics.roc_auc_score(y_test, model_test)))"
   ]
  },
  {
   "cell_type": "raw",
   "metadata": {},
   "source": [
    "#cross-valiation\n",
    "model = RandomForestClassifier(n_estimators=100, max_depth=5, random_state=1)\n",
    "model_cv = cross_val_score(model, X_train, y_train, cv=5, scoring='roc_auc')\n",
    "print \"AUC-CV: \", model_cv.mean()"
   ]
  },
  {
   "cell_type": "code",
   "execution_count": null,
   "metadata": {
    "collapsed": true
   },
   "outputs": [],
   "source": [
    "#RandomForest\n",
    "model = RandomForestClassifier(n_estimators=100, \n",
    "                               max_depth=10,\n",
    "                               random_state=1) \n",
    "#training\n",
    "model.fit(X_train, y_train)\n",
    "\n",
    "#prediction\n",
    "pred_train = model.predict_proba(X_train)[:,1]\n",
    "pred_val = model.predict_proba(X_val)[:,1]\n",
    "pred_test = model.predict_proba(X_test)[:,1]\n",
    "\n",
    "#evaluation\n",
    "print 'AUC- RandomForest:'\n",
    "print('train: {:.2%}'.format(metrics.roc_auc_score(y_train, pred_train)))\n",
    "print('val: {:.2%}'.format(metrics.roc_auc_score(y_val, pred_val)))\n",
    "print('test: {:.2%}'.format(metrics.roc_auc_score(y_test, pred_test)))"
   ]
  },
  {
   "cell_type": "markdown",
   "metadata": {},
   "source": [
    "## Non-Tree Based\n",
    "+ Logistic\n",
    "+ Neural Network"
   ]
  },
  {
   "cell_type": "code",
   "execution_count": null,
   "metadata": {
    "collapsed": true
   },
   "outputs": [],
   "source": [
    "#non-tree based\n",
    "nt_train = train.copy()\n",
    "nt_test = test.copy()"
   ]
  },
  {
   "cell_type": "code",
   "execution_count": null,
   "metadata": {
    "collapsed": true
   },
   "outputs": [],
   "source": [
    "#preprocessing\n"
   ]
  },
  {
   "cell_type": "code",
   "execution_count": null,
   "metadata": {
    "collapsed": true
   },
   "outputs": [],
   "source": [
    "#train, val, test\n",
    "X, y = nt_train.drop('event', axis=1), nt_train['event'].copy()\n",
    "X_train, X_val, y_train, y_val = train_test_split(X, y, test_size=0.3, stratify=y, random_state=1)\n",
    "X_test, y_test = nt_test.drop('event', axis=1), nt_test['event'].copy()\n",
    "\n",
    "print 'X_train.shape: ', X_train.shape\n",
    "print 'X_val.shape: ', X_val.shape\n",
    "print 'y_train.shape: ', y_train.shape\n",
    "print 'y_val.shape: ', y_val.shape\n",
    "print 'X_test.shape: ', X_test.shape\n",
    "print 'y_test.shape: ', y_test.shape"
   ]
  },
  {
   "cell_type": "markdown",
   "metadata": {},
   "source": [
    "### Logistic"
   ]
  },
  {
   "cell_type": "code",
   "execution_count": null,
   "metadata": {
    "collapsed": true
   },
   "outputs": [],
   "source": [
    "#Logistic\n",
    "model = LogisticRegression(random_state=1)\n",
    "model.fit(X_train, y_train)\n",
    "\n",
    "#prediction\n",
    "pred_train = model.predict_proba(X_train)[:,1]\n",
    "pred_val = model.predict_proba(X_val)[:,1]\n",
    "pred_test = model.predict_proba(X_test)[:,1]\n",
    "\n",
    "#evaluation\n",
    "print 'AUC- Logistic: '\n",
    "print('train: {:.2%}'.format(metrics.roc_auc_score(y_train, pred_train)))\n",
    "print('val: {:.2%}'.format(metrics.roc_auc_score(y_val, pred_val)))\n",
    "print('test: {:.2%}'.format(metrics.roc_auc_score(y_test, pred_test)))"
   ]
  },
  {
   "cell_type": "markdown",
   "metadata": {},
   "source": [
    "### Neural Network"
   ]
  },
  {
   "cell_type": "code",
   "execution_count": null,
   "metadata": {
    "collapsed": true
   },
   "outputs": [],
   "source": [
    "#NN\n",
    "model = MLPClassifier(hidden_layer_sizes=(50, 5),\n",
    "                      activation='relu', \n",
    "                      solver='sgd',\n",
    "                      #learning_rate = 'adaptive', \n",
    "                      #max_iter=500,\n",
    "                      #validation_fraction=0.1,\n",
    "                      #early_stopping=True, \n",
    "                      random_state=1)\n",
    "model.fit(X_train, y_train)\n",
    "\n",
    "#prediction\n",
    "pred_train = model.predict_proba(X_train)[:,1]\n",
    "pred_val = model.predict_proba(X_val)[:,1]\n",
    "pred_test = model.predict_proba(X_test)[:,1]\n",
    "\n",
    "#evaluation\n",
    "print 'AUC- NN: '\n",
    "print('train: {:.2%}'.format(metrics.roc_auc_score(y_train, pred_train)))\n",
    "print('val: {:.2%}'.format(metrics.roc_auc_score(y_val, pred_val)))\n",
    "print('test: {:.2%}'.format(metrics.roc_auc_score(y_test, pred_test)))"
   ]
  },
  {
   "cell_type": "code",
   "execution_count": null,
   "metadata": {
    "collapsed": true
   },
   "outputs": [],
   "source": []
  }
 ],
 "metadata": {
  "kernelspec": {
   "display_name": "Python 2",
   "language": "python",
   "name": "python2"
  },
  "language_info": {
   "codemirror_mode": {
    "name": "ipython",
    "version": 2
   },
   "file_extension": ".py",
   "mimetype": "text/x-python",
   "name": "python",
   "nbconvert_exporter": "python",
   "pygments_lexer": "ipython2",
   "version": "2.7.13"
  }
 },
 "nbformat": 4,
 "nbformat_minor": 2
}
